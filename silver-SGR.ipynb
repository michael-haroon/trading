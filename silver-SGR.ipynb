{
 "cells": [
  {
   "cell_type": "markdown",
   "id": "f7679939",
   "metadata": {},
   "source": [
    "# Intro\n",
    "---\n",
    "To preface, I am not strong at stats. This is a work in progress. Any feedback would be much appreciated.\n",
    "\n",
    "This notebook is to test a claim made by some chief trader from this article: https://investorplace.com/smartmoney/2025/10/the-great-silver-shortage-why-prices-are-poised-to-break-out-again/\n",
    "\n",
    "\n",
    "He states that given the **silver-gold ratio (SGR)** is *less than ($<$) 1.3%*, silver prices are poised to increase. My hypothesis is that this is not correct. We will use the price of gold and silver futures for the ratio then use it to predict future temporal prices. We must also acknowledge that the data are time series. So what is the best model and test for this case?\n",
    "\n",
    "First we will analyze average return for when the signal is active (when SGR is $<1.3\\%$) compared to when it's not (when SGR is $\\geq1.3\\%$). We are looking for returns when the signal is activated. "
   ]
  },
  {
   "cell_type": "code",
   "execution_count": 96,
   "id": "3537d0e0",
   "metadata": {},
   "outputs": [],
   "source": [
    "import pandas as pd\n",
    "import numpy as np\n",
    "import yfinance as yf\n",
    "from statsmodels.tsa.api import VAR\n",
    "from scipy import stats\n",
    "import matplotlib.pyplot as plt\n",
    "import os"
   ]
  },
  {
   "cell_type": "code",
   "execution_count": 97,
   "id": "06be3d63",
   "metadata": {},
   "outputs": [],
   "source": [
    "def clean_existing_csvs():\n",
    "    '''This cleans up the indeces of CSV. My local CSVs were disorganized'''\n",
    "    base_dir = os.getcwd()\n",
    "    folder_path = os.path.join(base_dir, \"data\")\n",
    "    if not os.path.exists(folder_path):\n",
    "        return\n",
    "    for f in os.listdir(folder_path):\n",
    "        if f.endswith(\".csv\"):\n",
    "            path = os.path.join(folder_path, f)\n",
    "            # Read while skipping junk header rows\n",
    "            df = pd.read_csv(path, skiprows=[1,2], index_col=0)\n",
    "            # Flatten multiindex if any\n",
    "            if isinstance(df.columns, pd.MultiIndex):\n",
    "                df.columns = ['_'.join(col).strip() for col in df.columns.values]\n",
    "            # Drop NaN rows created by the \"Date\" line\n",
    "            df = df[df.index.notna()]\n",
    "            # Overwrite cleaned file\n",
    "            df.to_csv(path, index=True)\n",
    "            print(f\"Cleaned {f}\")\n",
    "            \n",
    "def fetch_data(symbol):\n",
    "    '''Get local data. If it does not exist, pull from yfinance'''\n",
    "    base_dir = os.getcwd()\n",
    "    folder_path = os.path.join(base_dir, \"data\")\n",
    "    os.makedirs(folder_path, exist_ok=True)\n",
    "    cache_file = f\"{symbol.replace('=','-')}.csv\"\n",
    "    file_path = os.path.join(folder_path, cache_file)\n",
    "\n",
    "    if os.path.exists(file_path):\n",
    "        df = pd.read_csv(file_path, index_col=0, parse_dates=True)\n",
    "        print(f\"Loaded cached data for {symbol}\")\n",
    "    else:\n",
    "        df = yf.download(symbol, start='1990-01-01', auto_adjust=True)[['Open', 'Close']]\n",
    "        df.to_csv(file_path)\n",
    "        print(f\"Downloaded and cached data for {symbol}\")\n",
    "        \n",
    "    # rename columns to prevent duplicates after concat\n",
    "    df.columns = [f\"{symbol}_Open\", f\"{symbol}_Close\"]\n",
    "    return df"
   ]
  },
  {
   "cell_type": "code",
   "execution_count": 98,
   "id": "8af03960",
   "metadata": {},
   "outputs": [
    {
     "name": "stdout",
     "output_type": "stream",
     "text": [
      "Cleaned GC-F.csv\n",
      "Cleaned GLD.csv\n",
      "Cleaned test_ticker.csv\n",
      "Cleaned SLV.csv\n",
      "Cleaned SI-F.csv\n"
     ]
    }
   ],
   "source": [
    "clean_existing_csvs()"
   ]
  },
  {
   "cell_type": "code",
   "execution_count": 99,
   "id": "7482fe73",
   "metadata": {},
   "outputs": [
    {
     "name": "stdout",
     "output_type": "stream",
     "text": [
      "Loaded cached data for SI=F\n",
      "Loaded cached data for GC=F\n"
     ]
    },
    {
     "data": {
      "text/html": [
       "<div>\n",
       "<style scoped>\n",
       "    .dataframe tbody tr th:only-of-type {\n",
       "        vertical-align: middle;\n",
       "    }\n",
       "\n",
       "    .dataframe tbody tr th {\n",
       "        vertical-align: top;\n",
       "    }\n",
       "\n",
       "    .dataframe thead th {\n",
       "        text-align: right;\n",
       "    }\n",
       "</style>\n",
       "<table border=\"1\" class=\"dataframe\">\n",
       "  <thead>\n",
       "    <tr style=\"text-align: right;\">\n",
       "      <th></th>\n",
       "      <th>SI=F_Close</th>\n",
       "      <th>GC=F_Close</th>\n",
       "    </tr>\n",
       "    <tr>\n",
       "      <th>Price</th>\n",
       "      <th></th>\n",
       "      <th></th>\n",
       "    </tr>\n",
       "  </thead>\n",
       "  <tbody>\n",
       "    <tr>\n",
       "      <th>2000-09-01</th>\n",
       "      <td>5.004</td>\n",
       "      <td>277.000000</td>\n",
       "    </tr>\n",
       "    <tr>\n",
       "      <th>2000-09-05</th>\n",
       "      <td>4.998</td>\n",
       "      <td>275.799988</td>\n",
       "    </tr>\n",
       "    <tr>\n",
       "      <th>2000-09-06</th>\n",
       "      <td>4.983</td>\n",
       "      <td>274.200012</td>\n",
       "    </tr>\n",
       "    <tr>\n",
       "      <th>2000-09-07</th>\n",
       "      <td>4.935</td>\n",
       "      <td>274.000000</td>\n",
       "    </tr>\n",
       "    <tr>\n",
       "      <th>2000-09-08</th>\n",
       "      <td>4.923</td>\n",
       "      <td>273.299988</td>\n",
       "    </tr>\n",
       "  </tbody>\n",
       "</table>\n",
       "</div>"
      ],
      "text/plain": [
       "            SI=F_Close  GC=F_Close\n",
       "Price                             \n",
       "2000-09-01       5.004  277.000000\n",
       "2000-09-05       4.998  275.799988\n",
       "2000-09-06       4.983  274.200012\n",
       "2000-09-07       4.935  274.000000\n",
       "2000-09-08       4.923  273.299988"
      ]
     },
     "execution_count": 99,
     "metadata": {},
     "output_type": "execute_result"
    }
   ],
   "source": [
    "# Fetch data from Yahoo and only take the closing prices to model\n",
    "silver = fetch_data('SI=F')\n",
    "gold = fetch_data('GC=F')\n",
    "\n",
    "df = pd.concat([silver, gold], axis=1, join='inner')\n",
    "\n",
    "df = df.drop(df.filter(regex='_Open$').columns, axis=1)\n",
    "df.head()"
   ]
  },
  {
   "cell_type": "code",
   "execution_count": 100,
   "id": "896150a5",
   "metadata": {},
   "outputs": [
    {
     "data": {
      "text/html": [
       "<div>\n",
       "<style scoped>\n",
       "    .dataframe tbody tr th:only-of-type {\n",
       "        vertical-align: middle;\n",
       "    }\n",
       "\n",
       "    .dataframe tbody tr th {\n",
       "        vertical-align: top;\n",
       "    }\n",
       "\n",
       "    .dataframe thead th {\n",
       "        text-align: right;\n",
       "    }\n",
       "</style>\n",
       "<table border=\"1\" class=\"dataframe\">\n",
       "  <thead>\n",
       "    <tr style=\"text-align: right;\">\n",
       "      <th></th>\n",
       "      <th>SI=F_Close</th>\n",
       "      <th>GC=F_Close</th>\n",
       "      <th>SGR</th>\n",
       "    </tr>\n",
       "    <tr>\n",
       "      <th>Price</th>\n",
       "      <th></th>\n",
       "      <th></th>\n",
       "      <th></th>\n",
       "    </tr>\n",
       "  </thead>\n",
       "  <tbody>\n",
       "    <tr>\n",
       "      <th>2000-09-01</th>\n",
       "      <td>5.004</td>\n",
       "      <td>277.000000</td>\n",
       "      <td>0.018065</td>\n",
       "    </tr>\n",
       "    <tr>\n",
       "      <th>2000-09-05</th>\n",
       "      <td>4.998</td>\n",
       "      <td>275.799988</td>\n",
       "      <td>0.018122</td>\n",
       "    </tr>\n",
       "    <tr>\n",
       "      <th>2000-09-06</th>\n",
       "      <td>4.983</td>\n",
       "      <td>274.200012</td>\n",
       "      <td>0.018173</td>\n",
       "    </tr>\n",
       "    <tr>\n",
       "      <th>2000-09-07</th>\n",
       "      <td>4.935</td>\n",
       "      <td>274.000000</td>\n",
       "      <td>0.018011</td>\n",
       "    </tr>\n",
       "    <tr>\n",
       "      <th>2000-09-08</th>\n",
       "      <td>4.923</td>\n",
       "      <td>273.299988</td>\n",
       "      <td>0.018013</td>\n",
       "    </tr>\n",
       "  </tbody>\n",
       "</table>\n",
       "</div>"
      ],
      "text/plain": [
       "            SI=F_Close  GC=F_Close       SGR\n",
       "Price                                       \n",
       "2000-09-01       5.004  277.000000  0.018065\n",
       "2000-09-05       4.998  275.799988  0.018122\n",
       "2000-09-06       4.983  274.200012  0.018173\n",
       "2000-09-07       4.935  274.000000  0.018011\n",
       "2000-09-08       4.923  273.299988  0.018013"
      ]
     },
     "execution_count": 100,
     "metadata": {},
     "output_type": "execute_result"
    }
   ],
   "source": [
    "# Create SGR column\n",
    "df['SGR'] = df['SI=F_Close'] / df['GC=F_Close']\n",
    "df.head()"
   ]
  },
  {
   "cell_type": "code",
   "execution_count": 101,
   "id": "a20c3073",
   "metadata": {},
   "outputs": [
    {
     "data": {
      "text/html": [
       "<div>\n",
       "<style scoped>\n",
       "    .dataframe tbody tr th:only-of-type {\n",
       "        vertical-align: middle;\n",
       "    }\n",
       "\n",
       "    .dataframe tbody tr th {\n",
       "        vertical-align: top;\n",
       "    }\n",
       "\n",
       "    .dataframe thead th {\n",
       "        text-align: right;\n",
       "    }\n",
       "</style>\n",
       "<table border=\"1\" class=\"dataframe\">\n",
       "  <thead>\n",
       "    <tr style=\"text-align: right;\">\n",
       "      <th></th>\n",
       "      <th>SI=F_Close</th>\n",
       "      <th>GC=F_Close</th>\n",
       "      <th>SGR</th>\n",
       "      <th>signal</th>\n",
       "      <th>return_next</th>\n",
       "    </tr>\n",
       "    <tr>\n",
       "      <th>Price</th>\n",
       "      <th></th>\n",
       "      <th></th>\n",
       "      <th></th>\n",
       "      <th></th>\n",
       "      <th></th>\n",
       "    </tr>\n",
       "  </thead>\n",
       "  <tbody>\n",
       "    <tr>\n",
       "      <th>2000-09-01</th>\n",
       "      <td>5.004</td>\n",
       "      <td>277.000000</td>\n",
       "      <td>0.018065</td>\n",
       "      <td>0</td>\n",
       "      <td>-0.001199</td>\n",
       "    </tr>\n",
       "    <tr>\n",
       "      <th>2000-09-05</th>\n",
       "      <td>4.998</td>\n",
       "      <td>275.799988</td>\n",
       "      <td>0.018122</td>\n",
       "      <td>0</td>\n",
       "      <td>-0.003001</td>\n",
       "    </tr>\n",
       "    <tr>\n",
       "      <th>2000-09-06</th>\n",
       "      <td>4.983</td>\n",
       "      <td>274.200012</td>\n",
       "      <td>0.018173</td>\n",
       "      <td>0</td>\n",
       "      <td>-0.009633</td>\n",
       "    </tr>\n",
       "    <tr>\n",
       "      <th>2000-09-07</th>\n",
       "      <td>4.935</td>\n",
       "      <td>274.000000</td>\n",
       "      <td>0.018011</td>\n",
       "      <td>0</td>\n",
       "      <td>-0.002432</td>\n",
       "    </tr>\n",
       "    <tr>\n",
       "      <th>2000-09-08</th>\n",
       "      <td>4.923</td>\n",
       "      <td>273.299988</td>\n",
       "      <td>0.018013</td>\n",
       "      <td>0</td>\n",
       "      <td>-0.007719</td>\n",
       "    </tr>\n",
       "  </tbody>\n",
       "</table>\n",
       "</div>"
      ],
      "text/plain": [
       "            SI=F_Close  GC=F_Close       SGR  signal  return_next\n",
       "Price                                                            \n",
       "2000-09-01       5.004  277.000000  0.018065       0    -0.001199\n",
       "2000-09-05       4.998  275.799988  0.018122       0    -0.003001\n",
       "2000-09-06       4.983  274.200012  0.018173       0    -0.009633\n",
       "2000-09-07       4.935  274.000000  0.018011       0    -0.002432\n",
       "2000-09-08       4.923  273.299988  0.018013       0    -0.007719"
      ]
     },
     "execution_count": 101,
     "metadata": {},
     "output_type": "execute_result"
    }
   ],
   "source": [
    "# We will define the signal to be 0 when disabled and 1 when active\n",
    "df['signal'] = (df['SGR'] < 0.013).astype(int)\n",
    "df['return_next'] = df['SI=F_Close'].pct_change().shift(-1)\n",
    "df = df.dropna()\n",
    "df.head()"
   ]
  },
  {
   "cell_type": "code",
   "execution_count": 102,
   "id": "da3acd4b",
   "metadata": {},
   "outputs": [
    {
     "data": {
      "image/png": "[encoded data removed]",
      "text/plain": [
       "<Figure size 640x480 with 1 Axes>"
      ]
     },
     "metadata": {},
     "output_type": "display_data"
    },
    {
     "name": "stdout",
     "output_type": "stream",
     "text": [
      "mean 0: 0.011 \n",
      "mean 1: 0.164\n"
     ]
    }
   ],
   "source": [
    "signal_group = df.groupby('signal')['return_next']\n",
    "\n",
    "means = signal_group.mean() * 100\n",
    "vars_ = signal_group.var()\n",
    "\n",
    "mean_0, mean_1 = round(means.loc[0], 3), round(means.loc[1], 3)\n",
    "var_0, var_1 = vars_.loc[0], vars_.loc[1]\n",
    "\n",
    "# Optional: visualize mean returns by signal\n",
    "means.plot(kind='bar', title='Mean Returns by Signal')\n",
    "plt.xlabel(\"Signal\")\n",
    "plt.ylabel(\"Mean Return (%)\")\n",
    "plt.show()\n",
    "print(f\"mean 0: {mean_0} \\nmean 1: {mean_1}\")\n",
    "\n"
   ]
  },
  {
   "cell_type": "markdown",
   "id": "f5a1de49",
   "metadata": {},
   "source": [
    "The signal seems promising! Past data shows short term returns if you hold your posiitons through when the signal is active (assuming you bought at when the signal appeared)! So maybe the claim is right.\n",
    "\n",
    "We can use a $t$-test to rigorously verify, but the data violates assumptions so it won't be telling."
   ]
  },
  {
   "cell_type": "code",
   "execution_count": 103,
   "id": "0850c686",
   "metadata": {},
   "outputs": [
    {
     "data": {
      "text/html": [
       "<div>\n",
       "<style scoped>\n",
       "    .dataframe tbody tr th:only-of-type {\n",
       "        vertical-align: middle;\n",
       "    }\n",
       "\n",
       "    .dataframe tbody tr th {\n",
       "        vertical-align: top;\n",
       "    }\n",
       "\n",
       "    .dataframe thead th {\n",
       "        text-align: right;\n",
       "    }\n",
       "</style>\n",
       "<table border=\"1\" class=\"dataframe\">\n",
       "  <thead>\n",
       "    <tr style=\"text-align: right;\">\n",
       "      <th></th>\n",
       "      <th>SI=F_Close</th>\n",
       "      <th>GC=F_Close</th>\n",
       "      <th>SGR</th>\n",
       "      <th>signal</th>\n",
       "      <th>return_next</th>\n",
       "    </tr>\n",
       "    <tr>\n",
       "      <th>Price</th>\n",
       "      <th></th>\n",
       "      <th></th>\n",
       "      <th></th>\n",
       "      <th></th>\n",
       "      <th></th>\n",
       "    </tr>\n",
       "  </thead>\n",
       "  <tbody>\n",
       "    <tr>\n",
       "      <th>2003-02-04</th>\n",
       "      <td>4.911</td>\n",
       "      <td>379.000000</td>\n",
       "      <td>0.012958</td>\n",
       "      <td>1</td>\n",
       "      <td>-0.030544</td>\n",
       "    </tr>\n",
       "    <tr>\n",
       "      <th>2003-02-05</th>\n",
       "      <td>4.761</td>\n",
       "      <td>376.399994</td>\n",
       "      <td>0.012649</td>\n",
       "      <td>1</td>\n",
       "      <td>-0.018484</td>\n",
       "    </tr>\n",
       "    <tr>\n",
       "      <th>2003-02-06</th>\n",
       "      <td>4.673</td>\n",
       "      <td>370.100006</td>\n",
       "      <td>0.012626</td>\n",
       "      <td>1</td>\n",
       "      <td>-0.005778</td>\n",
       "    </tr>\n",
       "    <tr>\n",
       "      <th>2003-02-07</th>\n",
       "      <td>4.646</td>\n",
       "      <td>369.899994</td>\n",
       "      <td>0.012560</td>\n",
       "      <td>1</td>\n",
       "      <td>-0.010762</td>\n",
       "    </tr>\n",
       "    <tr>\n",
       "      <th>2003-02-10</th>\n",
       "      <td>4.596</td>\n",
       "      <td>363.700012</td>\n",
       "      <td>0.012637</td>\n",
       "      <td>1</td>\n",
       "      <td>-0.006527</td>\n",
       "    </tr>\n",
       "  </tbody>\n",
       "</table>\n",
       "</div>"
      ],
      "text/plain": [
       "            SI=F_Close  GC=F_Close       SGR  signal  return_next\n",
       "Price                                                            \n",
       "2003-02-04       4.911  379.000000  0.012958       1    -0.030544\n",
       "2003-02-05       4.761  376.399994  0.012649       1    -0.018484\n",
       "2003-02-06       4.673  370.100006  0.012626       1    -0.005778\n",
       "2003-02-07       4.646  369.899994  0.012560       1    -0.010762\n",
       "2003-02-10       4.596  363.700012  0.012637       1    -0.006527"
      ]
     },
     "execution_count": 103,
     "metadata": {},
     "output_type": "execute_result"
    }
   ],
   "source": [
    "# Drop the any date before the first occurence of SGR < 1.13% since it is just noise this case\n",
    "df = df.loc[df.index >= '2003-02-04']\n",
    "df.head()"
   ]
  },
  {
   "cell_type": "code",
   "execution_count": 104,
   "id": "d1c2ec28",
   "metadata": {},
   "outputs": [
    {
     "data": {
      "image/png": "[encoded data removed]",
      "text/plain": [
       "<Figure size 640x480 with 1 Axes>"
      ]
     },
     "metadata": {},
     "output_type": "display_data"
    },
    {
     "name": "stdout",
     "output_type": "stream",
     "text": [
      "Correlation: 0.11394277504409482\n"
     ]
    }
   ],
   "source": [
    "# Now we check correlation and graph the time series\n",
    "df_norm = (df - df.mean()) / df.std()\n",
    "df_norm[['SI=F_Close', 'SGR']].plot(title='Normalized silver futures and SGR')\n",
    "sgr_line = (0.013 - df['SGR'].mean()) / df['SGR'].std()\n",
    "plt.axhline(y=sgr_line, color='black', linestyle='--', label='SGR = 0.013 (normalized)')\n",
    "\n",
    "plt.xlabel(\"Date\")\n",
    "plt.ylabel(\"Normalized Value\")\n",
    "\n",
    "\n",
    "plt.legend()\n",
    "plt.show()\n",
    "\n",
    "print(f'Correlation: {df['SI=F_Close'].corr(df['SGR'])}')"
   ]
  },
  {
   "cell_type": "markdown",
   "id": "07496901",
   "metadata": {},
   "source": [
    "What if we make the data stationary?"
   ]
  },
  {
   "cell_type": "code",
   "execution_count": 105,
   "id": "5fca2047",
   "metadata": {},
   "outputs": [
    {
     "name": "stderr",
     "output_type": "stream",
     "text": [
      "/var/folders/cx/gx6njnbj39qgss912bmvd5d40000gn/T/ipykernel_16714/3974465986.py:2: SettingWithCopyWarning: \n",
      "A value is trying to be set on a copy of a slice from a DataFrame.\n",
      "Try using .loc[row_indexer,col_indexer] = value instead\n",
      "\n",
      "See the caveats in the documentation: https://pandas.pydata.org/pandas-docs/stable/user_guide/indexing.html#returning-a-view-versus-a-copy\n",
      "  df['SI% change'] = df['SI=F_Close'].pct_change()\n",
      "/var/folders/cx/gx6njnbj39qgss912bmvd5d40000gn/T/ipykernel_16714/3974465986.py:3: SettingWithCopyWarning: \n",
      "A value is trying to be set on a copy of a slice from a DataFrame.\n",
      "Try using .loc[row_indexer,col_indexer] = value instead\n",
      "\n",
      "See the caveats in the documentation: https://pandas.pydata.org/pandas-docs/stable/user_guide/indexing.html#returning-a-view-versus-a-copy\n",
      "  df['SGR% change'] = df['SGR'].pct_change()\n"
     ]
    },
    {
     "data": {
      "text/html": [
       "<div>\n",
       "<style scoped>\n",
       "    .dataframe tbody tr th:only-of-type {\n",
       "        vertical-align: middle;\n",
       "    }\n",
       "\n",
       "    .dataframe tbody tr th {\n",
       "        vertical-align: top;\n",
       "    }\n",
       "\n",
       "    .dataframe thead th {\n",
       "        text-align: right;\n",
       "    }\n",
       "</style>\n",
       "<table border=\"1\" class=\"dataframe\">\n",
       "  <thead>\n",
       "    <tr style=\"text-align: right;\">\n",
       "      <th></th>\n",
       "      <th>SI=F_Close</th>\n",
       "      <th>GC=F_Close</th>\n",
       "      <th>SGR</th>\n",
       "      <th>signal</th>\n",
       "      <th>return_next</th>\n",
       "      <th>SI% change</th>\n",
       "      <th>SGR% change</th>\n",
       "    </tr>\n",
       "    <tr>\n",
       "      <th>Price</th>\n",
       "      <th></th>\n",
       "      <th></th>\n",
       "      <th></th>\n",
       "      <th></th>\n",
       "      <th></th>\n",
       "      <th></th>\n",
       "      <th></th>\n",
       "    </tr>\n",
       "  </thead>\n",
       "  <tbody>\n",
       "    <tr>\n",
       "      <th>2003-02-04</th>\n",
       "      <td>4.911</td>\n",
       "      <td>379.000000</td>\n",
       "      <td>0.012958</td>\n",
       "      <td>1</td>\n",
       "      <td>-0.030544</td>\n",
       "      <td>NaN</td>\n",
       "      <td>NaN</td>\n",
       "    </tr>\n",
       "    <tr>\n",
       "      <th>2003-02-05</th>\n",
       "      <td>4.761</td>\n",
       "      <td>376.399994</td>\n",
       "      <td>0.012649</td>\n",
       "      <td>1</td>\n",
       "      <td>-0.018484</td>\n",
       "      <td>-0.030544</td>\n",
       "      <td>-0.023847</td>\n",
       "    </tr>\n",
       "    <tr>\n",
       "      <th>2003-02-06</th>\n",
       "      <td>4.673</td>\n",
       "      <td>370.100006</td>\n",
       "      <td>0.012626</td>\n",
       "      <td>1</td>\n",
       "      <td>-0.005778</td>\n",
       "      <td>-0.018484</td>\n",
       "      <td>-0.001776</td>\n",
       "    </tr>\n",
       "    <tr>\n",
       "      <th>2003-02-07</th>\n",
       "      <td>4.646</td>\n",
       "      <td>369.899994</td>\n",
       "      <td>0.012560</td>\n",
       "      <td>1</td>\n",
       "      <td>-0.010762</td>\n",
       "      <td>-0.005778</td>\n",
       "      <td>-0.005240</td>\n",
       "    </tr>\n",
       "    <tr>\n",
       "      <th>2003-02-10</th>\n",
       "      <td>4.596</td>\n",
       "      <td>363.700012</td>\n",
       "      <td>0.012637</td>\n",
       "      <td>1</td>\n",
       "      <td>-0.006527</td>\n",
       "      <td>-0.010762</td>\n",
       "      <td>0.006102</td>\n",
       "    </tr>\n",
       "  </tbody>\n",
       "</table>\n",
       "</div>"
      ],
      "text/plain": [
       "            SI=F_Close  GC=F_Close       SGR  signal  return_next  SI% change  \\\n",
       "Price                                                                           \n",
       "2003-02-04       4.911  379.000000  0.012958       1    -0.030544         NaN   \n",
       "2003-02-05       4.761  376.399994  0.012649       1    -0.018484   -0.030544   \n",
       "2003-02-06       4.673  370.100006  0.012626       1    -0.005778   -0.018484   \n",
       "2003-02-07       4.646  369.899994  0.012560       1    -0.010762   -0.005778   \n",
       "2003-02-10       4.596  363.700012  0.012637       1    -0.006527   -0.010762   \n",
       "\n",
       "            SGR% change  \n",
       "Price                    \n",
       "2003-02-04          NaN  \n",
       "2003-02-05    -0.023847  \n",
       "2003-02-06    -0.001776  \n",
       "2003-02-07    -0.005240  \n",
       "2003-02-10     0.006102  "
      ]
     },
     "execution_count": 105,
     "metadata": {},
     "output_type": "execute_result"
    }
   ],
   "source": [
    "# Stationize the data\n",
    "df['SI% change'] = df['SI=F_Close'].pct_change()\n",
    "df['SGR% change'] = df['SGR'].pct_change()\n",
    "df.head()"
   ]
  },
  {
   "cell_type": "code",
   "execution_count": 106,
   "id": "51fb38cf",
   "metadata": {},
   "outputs": [
    {
     "data": {
      "image/png": "[encoded data removed]",
      "text/plain": [
       "<Figure size 640x480 with 1 Axes>"
      ]
     },
     "metadata": {},
     "output_type": "display_data"
    },
    {
     "name": "stdout",
     "output_type": "stream",
     "text": [
      "Correlation: 0.8597606734373562\n"
     ]
    }
   ],
   "source": [
    "# Now we check correlation and graph the time series\n",
    "df_norm = (df - df.mean()) / df.std()\n",
    "df_norm[['SI% change', 'SGR% change']].plot(title='Normalized stationarity of SI and SGR')\n",
    "\n",
    "plt.xlabel(\"Date\")\n",
    "plt.ylabel(\"Normalized Value\")\n",
    "\n",
    "\n",
    "plt.legend()\n",
    "plt.show()\n",
    "\n",
    "print(f'Correlation: {df['SI% change'].corr(df['SGR% change'])}')"
   ]
  },
  {
   "cell_type": "markdown",
   "id": "8b1c6575",
   "metadata": {},
   "source": [
    "There we go! Highly correlated! This implies that SI moves with SGR, which makes sense since they are dependent on one another. In this case, SGR likely has no *predictive* power over SI since the heavy dependence and correlation. Just because it moves with it doesn't mean it can predict price. So how do we test predictive power?"
   ]
  },
  {
   "cell_type": "code",
   "execution_count": 107,
   "id": "607b0448",
   "metadata": {},
   "outputs": [
    {
     "name": "stdout",
     "output_type": "stream",
     "text": [
      "  Summary of Regression Results   \n",
      "==================================\n",
      "Model:                         VAR\n",
      "Method:                        OLS\n",
      "Date:           Sat, 25, Oct, 2025\n",
      "Time:                     16:55:32\n",
      "--------------------------------------------------------------------\n",
      "No. of Equations:         2.00000    BIC:                   -17.7077\n",
      "Nobs:                     5698.00    HQIC:                  -17.7275\n",
      "Log likelihood:           34391.5    FPE:                1.97907e-08\n",
      "AIC:                     -17.7381    Det(Omega_mle):     1.97007e-08\n",
      "--------------------------------------------------------------------\n",
      "Results for equation SI% change\n",
      "=================================================================================\n",
      "                    coefficient       std. error           t-stat            prob\n",
      "---------------------------------------------------------------------------------\n",
      "const                  0.000618         0.000272            2.275           0.023\n",
      "L1.SI% change         -0.002272         0.026009           -0.087           0.930\n",
      "L1.SGR% change        -0.033064         0.039072           -0.846           0.397\n",
      "L2.SI% change          0.031642         0.026038            1.215           0.224\n",
      "L2.SGR% change        -0.024070         0.039121           -0.615           0.538\n",
      "L3.SI% change          0.034460         0.026044            1.323           0.186\n",
      "L3.SGR% change        -0.050684         0.039096           -1.296           0.195\n",
      "L4.SI% change         -0.052186         0.026059           -2.003           0.045\n",
      "L4.SGR% change         0.038299         0.039107            0.979           0.327\n",
      "L5.SI% change          0.020031         0.026064            0.769           0.442\n",
      "L5.SGR% change        -0.023121         0.039078           -0.592           0.554\n",
      "L6.SI% change         -0.010693         0.026066           -0.410           0.682\n",
      "L6.SGR% change        -0.013437         0.039075           -0.344           0.731\n",
      "=================================================================================\n",
      "\n",
      "Results for equation SGR% change\n",
      "=================================================================================\n",
      "                    coefficient       std. error           t-stat            prob\n",
      "---------------------------------------------------------------------------------\n",
      "const                  0.000055         0.000181            0.305           0.760\n",
      "L1.SI% change          0.008711         0.017297            0.504           0.615\n",
      "L1.SGR% change        -0.035942         0.025985           -1.383           0.167\n",
      "L2.SI% change          0.037489         0.017317            2.165           0.030\n",
      "L2.SGR% change        -0.026212         0.026017           -1.007           0.314\n",
      "L3.SI% change          0.026032         0.017321            1.503           0.133\n",
      "L3.SGR% change        -0.043530         0.026001           -1.674           0.094\n",
      "L4.SI% change         -0.045036         0.017330           -2.599           0.009\n",
      "L4.SGR% change         0.030879         0.026008            1.187           0.235\n",
      "L5.SI% change          0.006662         0.017334            0.384           0.701\n",
      "L5.SGR% change        -0.006930         0.025989           -0.267           0.790\n",
      "L6.SI% change          0.010306         0.017335            0.595           0.552\n",
      "L6.SGR% change        -0.004978         0.025987           -0.192           0.848\n",
      "=================================================================================\n",
      "\n",
      "Correlation matrix of residuals\n",
      "               SI% change  SGR% change\n",
      "SI% change       1.000000     0.860240\n",
      "SGR% change      0.860240     1.000000\n",
      "\n",
      "\n",
      "\n"
     ]
    },
    {
     "name": "stderr",
     "output_type": "stream",
     "text": [
      "/opt/miniconda3/envs/tasty/lib/python3.13/site-packages/statsmodels/tsa/base/tsa_model.py:473: ValueWarning: A date index has been provided, but it has no associated frequency information and so will be ignored when e.g. forecasting.\n",
      "  self._init_dates(dates, freq)\n"
     ]
    }
   ],
   "source": [
    "# Build VAR model\n",
    "df_stat = df[['SI% change', 'SGR% change']].iloc[1:]\n",
    "\n",
    "model_var = VAR(df_stat)\n",
    "results_var = model_var.fit(maxlags=7, ic='aic')  # Use AIC to select lag order\n",
    "print(results_var.summary())\n"
   ]
  },
  {
   "cell_type": "markdown",
   "id": "4a67b687",
   "metadata": {},
   "source": [
    "AI says short term predictive power is weak. Help me interpret this model!\n",
    "\n",
    "I believe classical models and tests are not the best for this study, so next time I will implement modern models and test!"
   ]
  },
  {
   "cell_type": "markdown",
   "id": "decab4ae",
   "metadata": {},
   "source": []
  }
 ],
 "metadata": {
  "kernelspec": {
   "display_name": "Python3 (tasty)",
   "language": "python",
   "name": "tasty"
  },
  "language_info": {
   "codemirror_mode": {
    "name": "ipython",
    "version": 3
   },
   "file_extension": ".py",
   "mimetype": "text/x-python",
   "name": "python",
   "nbconvert_exporter": "python",
   "pygments_lexer": "ipython3",
   "version": "3.13.7"
  }
 },
 "nbformat": 4,
 "nbformat_minor": 5
}
