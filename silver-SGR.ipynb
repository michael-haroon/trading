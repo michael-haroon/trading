{
 "cells": [
  {
   "cell_type": "markdown",
   "id": "f7679939",
   "metadata": {},
   "source": [
    "# Intro\n",
    "---\n",
    "To preface, I am not strong at stats. This is a work in progress. Any feedback would be much appreciated.\n",
    "\n",
    "This notebook is to test a claim made by some chief trader from this article: https://investorplace.com/smartmoney/2025/10/the-great-silver-shortage-why-prices-are-poised-to-break-out-again/\n",
    "\n",
    "\n",
    "He states that given the **silver-gold ratio (SGR)** is *less than ($<$) 1.3%*, silver prices are poised to increase. My hypothesis is that this is not correct. We will use future prices for the ratio and compare it to silver futures. We must also acknowledge that the data are time series. So what is the best model and test for this case?\n",
    "\n",
    "First we will analyze average return for when the signal is active (when SGR is $<1.3\\%$) compared to when it's not (when SGR is $\\geq1.3\\%$). We are looking for short term returns when the signal is activated. \n",
    "\n",
    "Then we will do a simple regressoin on SI futures against time to see if the price increases. A greater slope will indicated greater returns (for each day, price goes up per slope amount). This is not a correlation test.\n",
    "\n",
    "Then we will use modern tools to model and test. We will not use classical. We will stationize the time series by viewing day-to-day percentage change. Then we will test that it is stationary using the Augmented dickey fuller test (I think)."
   ]
  },
  {
   "cell_type": "code",
   "execution_count": 62,
   "id": "3537d0e0",
   "metadata": {},
   "outputs": [],
   "source": [
    "import pandas as pd\n",
    "import numpy as np\n",
    "import yfinance as yf\n",
    "from statsmodels.tsa.api import VAR\n",
    "from scipy import stats\n",
    "import matplotlib.pyplot as plt\n",
    "import os"
   ]
  },
  {
   "cell_type": "code",
   "execution_count": null,
   "id": "06be3d63",
   "metadata": {},
   "outputs": [],
   "source": [
    "def clean_existing_csvs():\n",
    "    '''This cleans up the indeces of CSV. My local CSVs were disorganized'''\n",
    "    base_dir = os.getcwd()\n",
    "    folder_path = os.path.join(base_dir, \"data\")\n",
    "    if not os.path.exists(folder_path):\n",
    "        return\n",
    "    for f in os.listdir(folder_path):\n",
    "        if f.endswith(\".csv\"):\n",
    "            path = os.path.join(folder_path, f)\n",
    "            # Read while skipping junk header rows\n",
    "            df = pd.read_csv(path, skiprows=[1,2], index_col=0)\n",
    "            # Flatten multiindex if any\n",
    "            if isinstance(df.columns, pd.MultiIndex):\n",
    "                df.columns = ['_'.join(col).strip() for col in df.columns.values]\n",
    "            # Drop NaN rows created by the \"Date\" line\n",
    "            df = df[df.index.notna()]\n",
    "            # Overwrite cleaned file\n",
    "            df.to_csv(path, index=True)\n",
    "            print(f\"Cleaned {f}\")\n",
    "            \n",
    "def fetch_data(symbol):\n",
    "    '''Get local data. If it does not exist, pull from yfinance'''\n",
    "    base_dir = os.getcwd()\n",
    "    folder_path = os.path.join(base_dir, \"data\")\n",
    "    os.makedirs(folder_path, exist_ok=True)\n",
    "    cache_file = f\"{symbol.replace('=','-')}.csv\"\n",
    "    file_path = os.path.join(folder_path, cache_file)\n",
    "\n",
    "    if os.path.exists(file_path):\n",
    "        df = pd.read_csv(file_path, index_col=0, parse_dates=True)\n",
    "        print(f\"Loaded cached data for {symbol}\")\n",
    "    else:\n",
    "        df = yf.download(symbol, start='1990-01-01', auto_adjust=True)[['Open', 'Close']]\n",
    "        df.to_csv(file_path)\n",
    "        print(f\"Downloaded and cached data for {symbol}\")\n",
    "        \n",
    "    # rename columns to prevent duplicates after concat\n",
    "    df.columns = [f\"{symbol}_Open\", f\"{symbol}_Close\"]\n",
    "    return df"
   ]
  },
  {
   "cell_type": "code",
   "execution_count": 8,
   "id": "8af03960",
   "metadata": {},
   "outputs": [
    {
     "name": "stdout",
     "output_type": "stream",
     "text": [
      "Cleaned GC-F.csv\n",
      "Cleaned GLD.csv\n",
      "Cleaned test_ticker.csv\n",
      "Cleaned SLV.csv\n",
      "Cleaned SI-F.csv\n"
     ]
    }
   ],
   "source": [
    "clean_existing_csvs()"
   ]
  },
  {
   "cell_type": "code",
   "execution_count": 81,
   "id": "7482fe73",
   "metadata": {},
   "outputs": [
    {
     "name": "stdout",
     "output_type": "stream",
     "text": [
      "Loaded cached data for SI=F\n",
      "Loaded cached data for GC=F\n"
     ]
    },
    {
     "data": {
      "text/html": [
       "<div>\n",
       "<style scoped>\n",
       "    .dataframe tbody tr th:only-of-type {\n",
       "        vertical-align: middle;\n",
       "    }\n",
       "\n",
       "    .dataframe tbody tr th {\n",
       "        vertical-align: top;\n",
       "    }\n",
       "\n",
       "    .dataframe thead th {\n",
       "        text-align: right;\n",
       "    }\n",
       "</style>\n",
       "<table border=\"1\" class=\"dataframe\">\n",
       "  <thead>\n",
       "    <tr style=\"text-align: right;\">\n",
       "      <th></th>\n",
       "      <th>SI=F_Close</th>\n",
       "      <th>GC=F_Close</th>\n",
       "    </tr>\n",
       "    <tr>\n",
       "      <th>Price</th>\n",
       "      <th></th>\n",
       "      <th></th>\n",
       "    </tr>\n",
       "  </thead>\n",
       "  <tbody>\n",
       "    <tr>\n",
       "      <th>2000-08-30</th>\n",
       "      <td>4.930</td>\n",
       "      <td>273.899994</td>\n",
       "    </tr>\n",
       "    <tr>\n",
       "      <th>2000-08-31</th>\n",
       "      <td>5.003</td>\n",
       "      <td>278.299988</td>\n",
       "    </tr>\n",
       "    <tr>\n",
       "      <th>2000-09-01</th>\n",
       "      <td>5.004</td>\n",
       "      <td>277.000000</td>\n",
       "    </tr>\n",
       "    <tr>\n",
       "      <th>2000-09-05</th>\n",
       "      <td>4.998</td>\n",
       "      <td>275.799988</td>\n",
       "    </tr>\n",
       "    <tr>\n",
       "      <th>2000-09-06</th>\n",
       "      <td>4.983</td>\n",
       "      <td>274.200012</td>\n",
       "    </tr>\n",
       "  </tbody>\n",
       "</table>\n",
       "</div>"
      ],
      "text/plain": [
       "            SI=F_Close  GC=F_Close\n",
       "Price                             \n",
       "2000-08-30       4.930  273.899994\n",
       "2000-08-31       5.003  278.299988\n",
       "2000-09-01       5.004  277.000000\n",
       "2000-09-05       4.998  275.799988\n",
       "2000-09-06       4.983  274.200012"
      ]
     },
     "execution_count": 81,
     "metadata": {},
     "output_type": "execute_result"
    }
   ],
   "source": [
    "# Fetch data from Yahoo and only take the closing prices to model\n",
    "silver = fetch_data('SI=F')\n",
    "gold = fetch_data('GC=F')\n",
    "\n",
    "df = pd.concat([silver, gold], axis=1, join='inner')\n",
    "\n",
    "df = df.drop(df.filter(regex='_Open$').columns, axis=1)\n",
    "df.head()"
   ]
  },
  {
   "cell_type": "code",
   "execution_count": 82,
   "id": "896150a5",
   "metadata": {},
   "outputs": [
    {
     "data": {
      "text/html": [
       "<div>\n",
       "<style scoped>\n",
       "    .dataframe tbody tr th:only-of-type {\n",
       "        vertical-align: middle;\n",
       "    }\n",
       "\n",
       "    .dataframe tbody tr th {\n",
       "        vertical-align: top;\n",
       "    }\n",
       "\n",
       "    .dataframe thead th {\n",
       "        text-align: right;\n",
       "    }\n",
       "</style>\n",
       "<table border=\"1\" class=\"dataframe\">\n",
       "  <thead>\n",
       "    <tr style=\"text-align: right;\">\n",
       "      <th></th>\n",
       "      <th>SI=F_Close</th>\n",
       "      <th>GC=F_Close</th>\n",
       "      <th>SGR</th>\n",
       "    </tr>\n",
       "    <tr>\n",
       "      <th>Price</th>\n",
       "      <th></th>\n",
       "      <th></th>\n",
       "      <th></th>\n",
       "    </tr>\n",
       "  </thead>\n",
       "  <tbody>\n",
       "    <tr>\n",
       "      <th>2000-08-30</th>\n",
       "      <td>4.930</td>\n",
       "      <td>273.899994</td>\n",
       "      <td>0.017999</td>\n",
       "    </tr>\n",
       "    <tr>\n",
       "      <th>2000-08-31</th>\n",
       "      <td>5.003</td>\n",
       "      <td>278.299988</td>\n",
       "      <td>0.017977</td>\n",
       "    </tr>\n",
       "    <tr>\n",
       "      <th>2000-09-01</th>\n",
       "      <td>5.004</td>\n",
       "      <td>277.000000</td>\n",
       "      <td>0.018065</td>\n",
       "    </tr>\n",
       "    <tr>\n",
       "      <th>2000-09-05</th>\n",
       "      <td>4.998</td>\n",
       "      <td>275.799988</td>\n",
       "      <td>0.018122</td>\n",
       "    </tr>\n",
       "    <tr>\n",
       "      <th>2000-09-06</th>\n",
       "      <td>4.983</td>\n",
       "      <td>274.200012</td>\n",
       "      <td>0.018173</td>\n",
       "    </tr>\n",
       "  </tbody>\n",
       "</table>\n",
       "</div>"
      ],
      "text/plain": [
       "            SI=F_Close  GC=F_Close       SGR\n",
       "Price                                       \n",
       "2000-08-30       4.930  273.899994  0.017999\n",
       "2000-08-31       5.003  278.299988  0.017977\n",
       "2000-09-01       5.004  277.000000  0.018065\n",
       "2000-09-05       4.998  275.799988  0.018122\n",
       "2000-09-06       4.983  274.200012  0.018173"
      ]
     },
     "execution_count": 82,
     "metadata": {},
     "output_type": "execute_result"
    }
   ],
   "source": [
    "# Create SGR column\n",
    "df['SGR'] = df['SI=F_Close'] / df['GC=F_Close']\n",
    "df.head()"
   ]
  },
  {
   "cell_type": "code",
   "execution_count": 83,
   "id": "a20c3073",
   "metadata": {},
   "outputs": [
    {
     "data": {
      "text/html": [
       "<div>\n",
       "<style scoped>\n",
       "    .dataframe tbody tr th:only-of-type {\n",
       "        vertical-align: middle;\n",
       "    }\n",
       "\n",
       "    .dataframe tbody tr th {\n",
       "        vertical-align: top;\n",
       "    }\n",
       "\n",
       "    .dataframe thead th {\n",
       "        text-align: right;\n",
       "    }\n",
       "</style>\n",
       "<table border=\"1\" class=\"dataframe\">\n",
       "  <thead>\n",
       "    <tr style=\"text-align: right;\">\n",
       "      <th></th>\n",
       "      <th>SI=F_Close</th>\n",
       "      <th>GC=F_Close</th>\n",
       "      <th>SGR</th>\n",
       "      <th>signal</th>\n",
       "      <th>return_next</th>\n",
       "    </tr>\n",
       "    <tr>\n",
       "      <th>Price</th>\n",
       "      <th></th>\n",
       "      <th></th>\n",
       "      <th></th>\n",
       "      <th></th>\n",
       "      <th></th>\n",
       "    </tr>\n",
       "  </thead>\n",
       "  <tbody>\n",
       "    <tr>\n",
       "      <th>2000-08-30</th>\n",
       "      <td>4.930</td>\n",
       "      <td>273.899994</td>\n",
       "      <td>0.017999</td>\n",
       "      <td>0</td>\n",
       "      <td>0.014807</td>\n",
       "    </tr>\n",
       "    <tr>\n",
       "      <th>2000-08-31</th>\n",
       "      <td>5.003</td>\n",
       "      <td>278.299988</td>\n",
       "      <td>0.017977</td>\n",
       "      <td>0</td>\n",
       "      <td>0.000200</td>\n",
       "    </tr>\n",
       "    <tr>\n",
       "      <th>2000-09-01</th>\n",
       "      <td>5.004</td>\n",
       "      <td>277.000000</td>\n",
       "      <td>0.018065</td>\n",
       "      <td>0</td>\n",
       "      <td>-0.001199</td>\n",
       "    </tr>\n",
       "    <tr>\n",
       "      <th>2000-09-05</th>\n",
       "      <td>4.998</td>\n",
       "      <td>275.799988</td>\n",
       "      <td>0.018122</td>\n",
       "      <td>0</td>\n",
       "      <td>-0.003001</td>\n",
       "    </tr>\n",
       "    <tr>\n",
       "      <th>2000-09-06</th>\n",
       "      <td>4.983</td>\n",
       "      <td>274.200012</td>\n",
       "      <td>0.018173</td>\n",
       "      <td>0</td>\n",
       "      <td>-0.009633</td>\n",
       "    </tr>\n",
       "  </tbody>\n",
       "</table>\n",
       "</div>"
      ],
      "text/plain": [
       "            SI=F_Close  GC=F_Close       SGR  signal  return_next\n",
       "Price                                                            \n",
       "2000-08-30       4.930  273.899994  0.017999       0     0.014807\n",
       "2000-08-31       5.003  278.299988  0.017977       0     0.000200\n",
       "2000-09-01       5.004  277.000000  0.018065       0    -0.001199\n",
       "2000-09-05       4.998  275.799988  0.018122       0    -0.003001\n",
       "2000-09-06       4.983  274.200012  0.018173       0    -0.009633"
      ]
     },
     "execution_count": 83,
     "metadata": {},
     "output_type": "execute_result"
    }
   ],
   "source": [
    "# We will define the signal to be 0 when disabled and 1 when active\n",
    "df['signal'] = (df['SGR'] < 0.013).astype(int)\n",
    "df['return_next'] = df['SI=F_Close'].pct_change().shift(-1)\n",
    "df = df.dropna()\n",
    "df.head()"
   ]
  },
  {
   "cell_type": "code",
   "execution_count": 84,
   "id": "da3acd4b",
   "metadata": {},
   "outputs": [
    {
     "data": {
      "image/png": "[encoded data removed]",
      "text/plain": [
       "<Figure size 640x480 with 1 Axes>"
      ]
     },
     "metadata": {},
     "output_type": "display_data"
    },
    {
     "name": "stdout",
     "output_type": "stream",
     "text": [
      "mean 0: 0.011 \n",
      "mean 1: 0.164\n"
     ]
    }
   ],
   "source": [
    "signal_group = df.groupby('signal')['return_next']\n",
    "\n",
    "means = signal_group.mean() * 100\n",
    "vars_ = signal_group.var()\n",
    "\n",
    "mean_0, mean_1 = round(means.loc[0], 3), round(means.loc[1], 3)\n",
    "var_0, var_1 = vars_.loc[0], vars_.loc[1]\n",
    "\n",
    "# Optional: visualize mean returns by signal\n",
    "means.plot(kind='bar', title='Mean Returns by Signal')\n",
    "plt.xlabel(\"Signal\")\n",
    "plt.ylabel(\"Mean Return (%)\")\n",
    "plt.show()\n",
    "print(f\"mean 0: {mean_0} \\nmean 1: {mean_1}\")\n",
    "\n"
   ]
  },
  {
   "cell_type": "markdown",
   "id": "f5a1de49",
   "metadata": {},
   "source": [
    "The signal indicates significant short term returns if you hold your posiitons through when the signal is active! So maybe the claim is right.\n",
    "\n",
    "We can use a $t$-test to rigorously verify, but the data violates assumptions so it won't be telling."
   ]
  },
  {
   "cell_type": "code",
   "execution_count": 85,
   "id": "0850c686",
   "metadata": {},
   "outputs": [],
   "source": [
    "# # Drop the any date before the first occurence of SGR < 1.13% since it is just noise this case\n",
    "# df = df.loc[df.index >= '2003-02-04']\n",
    "# df.head()"
   ]
  },
  {
   "cell_type": "code",
   "execution_count": 86,
   "id": "d1c2ec28",
   "metadata": {},
   "outputs": [
    {
     "data": {
      "image/png": "[encoded data removed]",
      "text/plain": [
       "<Figure size 640x480 with 1 Axes>"
      ]
     },
     "metadata": {},
     "output_type": "display_data"
    },
    {
     "name": "stdout",
     "output_type": "stream",
     "text": [
      "Correlation: 0.06609787325083215\n"
     ]
    }
   ],
   "source": [
    "# Now we check correlation and graph the time series\n",
    "df_norm = (df - df.mean()) / df.std()\n",
    "df_norm[['SI=F_Close', 'SGR']].plot(title='Normalized silver futures and SGR')\n",
    "sgr_line = (0.013 - df['SGR'].mean()) / df['SGR'].std()\n",
    "plt.axhline(y=sgr_line, color='black', linestyle='--', label='SGR = 0.013 (normalized)')\n",
    "\n",
    "plt.xlabel(\"Date\")\n",
    "plt.ylabel(\"Normalized Value\")\n",
    "\n",
    "\n",
    "plt.legend()\n",
    "plt.show()\n",
    "\n",
    "print(f'Correlation: {df['SI=F_Close'].corr(df['SGR'])}')"
   ]
  },
  {
   "cell_type": "markdown",
   "id": "07496901",
   "metadata": {},
   "source": [
    "What if we make the data stationary?"
   ]
  },
  {
   "cell_type": "code",
   "execution_count": 87,
   "id": "5fca2047",
   "metadata": {},
   "outputs": [
    {
     "data": {
      "text/html": [
       "<div>\n",
       "<style scoped>\n",
       "    .dataframe tbody tr th:only-of-type {\n",
       "        vertical-align: middle;\n",
       "    }\n",
       "\n",
       "    .dataframe tbody tr th {\n",
       "        vertical-align: top;\n",
       "    }\n",
       "\n",
       "    .dataframe thead th {\n",
       "        text-align: right;\n",
       "    }\n",
       "</style>\n",
       "<table border=\"1\" class=\"dataframe\">\n",
       "  <thead>\n",
       "    <tr style=\"text-align: right;\">\n",
       "      <th></th>\n",
       "      <th>SI=F_Close</th>\n",
       "      <th>GC=F_Close</th>\n",
       "      <th>SGR</th>\n",
       "      <th>signal</th>\n",
       "      <th>return_next</th>\n",
       "      <th>SI% change</th>\n",
       "      <th>SGR% change</th>\n",
       "    </tr>\n",
       "    <tr>\n",
       "      <th>Price</th>\n",
       "      <th></th>\n",
       "      <th></th>\n",
       "      <th></th>\n",
       "      <th></th>\n",
       "      <th></th>\n",
       "      <th></th>\n",
       "      <th></th>\n",
       "    </tr>\n",
       "  </thead>\n",
       "  <tbody>\n",
       "    <tr>\n",
       "      <th>2000-08-30</th>\n",
       "      <td>4.930</td>\n",
       "      <td>273.899994</td>\n",
       "      <td>0.017999</td>\n",
       "      <td>0</td>\n",
       "      <td>0.014807</td>\n",
       "      <td>NaN</td>\n",
       "      <td>NaN</td>\n",
       "    </tr>\n",
       "    <tr>\n",
       "      <th>2000-08-31</th>\n",
       "      <td>5.003</td>\n",
       "      <td>278.299988</td>\n",
       "      <td>0.017977</td>\n",
       "      <td>0</td>\n",
       "      <td>0.000200</td>\n",
       "      <td>0.014807</td>\n",
       "      <td>-0.001237</td>\n",
       "    </tr>\n",
       "    <tr>\n",
       "      <th>2000-09-01</th>\n",
       "      <td>5.004</td>\n",
       "      <td>277.000000</td>\n",
       "      <td>0.018065</td>\n",
       "      <td>0</td>\n",
       "      <td>-0.001199</td>\n",
       "      <td>0.000200</td>\n",
       "      <td>0.004894</td>\n",
       "    </tr>\n",
       "    <tr>\n",
       "      <th>2000-09-05</th>\n",
       "      <td>4.998</td>\n",
       "      <td>275.799988</td>\n",
       "      <td>0.018122</td>\n",
       "      <td>0</td>\n",
       "      <td>-0.003001</td>\n",
       "      <td>-0.001199</td>\n",
       "      <td>0.003147</td>\n",
       "    </tr>\n",
       "    <tr>\n",
       "      <th>2000-09-06</th>\n",
       "      <td>4.983</td>\n",
       "      <td>274.200012</td>\n",
       "      <td>0.018173</td>\n",
       "      <td>0</td>\n",
       "      <td>-0.009633</td>\n",
       "      <td>-0.003001</td>\n",
       "      <td>0.002816</td>\n",
       "    </tr>\n",
       "  </tbody>\n",
       "</table>\n",
       "</div>"
      ],
      "text/plain": [
       "            SI=F_Close  GC=F_Close       SGR  signal  return_next  SI% change  \\\n",
       "Price                                                                           \n",
       "2000-08-30       4.930  273.899994  0.017999       0     0.014807         NaN   \n",
       "2000-08-31       5.003  278.299988  0.017977       0     0.000200    0.014807   \n",
       "2000-09-01       5.004  277.000000  0.018065       0    -0.001199    0.000200   \n",
       "2000-09-05       4.998  275.799988  0.018122       0    -0.003001   -0.001199   \n",
       "2000-09-06       4.983  274.200012  0.018173       0    -0.009633   -0.003001   \n",
       "\n",
       "            SGR% change  \n",
       "Price                    \n",
       "2000-08-30          NaN  \n",
       "2000-08-31    -0.001237  \n",
       "2000-09-01     0.004894  \n",
       "2000-09-05     0.003147  \n",
       "2000-09-06     0.002816  "
      ]
     },
     "execution_count": 87,
     "metadata": {},
     "output_type": "execute_result"
    }
   ],
   "source": [
    "# Stationize the data\n",
    "df['SI% change'] = df['SI=F_Close'].pct_change()\n",
    "df['SGR% change'] = df['SGR'].pct_change()\n",
    "df.head()"
   ]
  },
  {
   "cell_type": "code",
   "execution_count": 88,
   "id": "51fb38cf",
   "metadata": {},
   "outputs": [
    {
     "data": {
      "image/png": "[encoded data removed]",
      "text/plain": [
       "<Figure size 640x480 with 1 Axes>"
      ]
     },
     "metadata": {},
     "output_type": "display_data"
    },
    {
     "name": "stdout",
     "output_type": "stream",
     "text": [
      "Correlation: 0.8510484769351793\n"
     ]
    }
   ],
   "source": [
    "# Now we check correlation and graph the time series\n",
    "df_norm = (df - df.mean()) / df.std()\n",
    "df_norm[['SI% change', 'SGR% change']].plot(title='Normalized stationarity of SI and SGR')\n",
    "\n",
    "plt.xlabel(\"Date\")\n",
    "plt.ylabel(\"Normalized Value\")\n",
    "\n",
    "\n",
    "plt.legend()\n",
    "plt.show()\n",
    "\n",
    "print(f'Correlation: {df['SI% change'].corr(df['SGR% change'])}')"
   ]
  },
  {
   "cell_type": "markdown",
   "id": "8b1c6575",
   "metadata": {},
   "source": [
    "There we go! Highly correlated! This implies that SI moves with SGR, whic makes sense since they are dependent on one another. In this case, SGR likely has no *predictive* power over SI. Just because it moves with it doesn't mean it can predict price. So how do we test predictive power?"
   ]
  },
  {
   "cell_type": "code",
   "execution_count": 95,
   "id": "607b0448",
   "metadata": {},
   "outputs": [
    {
     "name": "stdout",
     "output_type": "stream",
     "text": [
      "  Summary of Regression Results   \n",
      "==================================\n",
      "Model:                         VAR\n",
      "Method:                        OLS\n",
      "Date:           Sat, 25, Oct, 2025\n",
      "Time:                     16:50:59\n",
      "--------------------------------------------------------------------\n",
      "No. of Equations:         2.00000    BIC:                   -17.7798\n",
      "Nobs:                     6300.00    HQIC:                  -17.8008\n",
      "Log likelihood:           38258.9    FPE:                1.83817e-08\n",
      "AIC:                     -17.8119    Det(Omega_mle):     1.82945e-08\n",
      "--------------------------------------------------------------------\n",
      "Results for equation SI% change\n",
      "=================================================================================\n",
      "                    coefficient       std. error           t-stat            prob\n",
      "---------------------------------------------------------------------------------\n",
      "const                  0.000581         0.000250            2.329           0.020\n",
      "L1.SI% change         -0.011232         0.024067           -0.467           0.641\n",
      "L1.SGR% change        -0.021371         0.035942           -0.595           0.552\n",
      "L2.SI% change          0.031469         0.024060            1.308           0.191\n",
      "L2.SGR% change        -0.019624         0.035936           -0.546           0.585\n",
      "L3.SI% change          0.042212         0.024071            1.754           0.079\n",
      "L3.SGR% change        -0.060760         0.035939           -1.691           0.091\n",
      "L4.SI% change         -0.052917         0.024085           -2.197           0.028\n",
      "L4.SGR% change         0.041373         0.035940            1.151           0.250\n",
      "L5.SI% change          0.018729         0.024098            0.777           0.437\n",
      "L5.SGR% change        -0.016785         0.035941           -0.467           0.640\n",
      "L6.SI% change         -0.014163         0.024096           -0.588           0.557\n",
      "L6.SGR% change        -0.007503         0.035920           -0.209           0.835\n",
      "L7.SI% change         -0.061765         0.024112           -2.562           0.010\n",
      "L7.SGR% change         0.099342         0.035911            2.766           0.006\n",
      "=================================================================================\n",
      "\n",
      "Results for equation SGR% change\n",
      "=================================================================================\n",
      "                    coefficient       std. error           t-stat            prob\n",
      "---------------------------------------------------------------------------------\n",
      "const                  0.000008         0.000167            0.047           0.962\n",
      "L1.SI% change          0.004782         0.016105            0.297           0.767\n",
      "L1.SGR% change        -0.031510         0.024051           -1.310           0.190\n",
      "L2.SI% change          0.033124         0.016100            2.057           0.040\n",
      "L2.SGR% change        -0.017252         0.024047           -0.717           0.473\n",
      "L3.SI% change          0.029191         0.016107            1.812           0.070\n",
      "L3.SGR% change        -0.046701         0.024049           -1.942           0.052\n",
      "L4.SI% change         -0.042699         0.016117           -2.649           0.008\n",
      "L4.SGR% change         0.028798         0.024050            1.197           0.231\n",
      "L5.SI% change          0.009297         0.016126            0.577           0.564\n",
      "L5.SGR% change        -0.009587         0.024051           -0.399           0.690\n",
      "L6.SI% change          0.014309         0.016124            0.887           0.375\n",
      "L6.SGR% change        -0.011005         0.024037           -0.458           0.647\n",
      "L7.SI% change         -0.028228         0.016135           -1.749           0.080\n",
      "L7.SGR% change         0.048791         0.024031            2.030           0.042\n",
      "=================================================================================\n",
      "\n",
      "Correlation matrix of residuals\n",
      "               SI% change  SGR% change\n",
      "SI% change       1.000000     0.851116\n",
      "SGR% change      0.851116     1.000000\n",
      "\n",
      "\n",
      "\n"
     ]
    },
    {
     "name": "stderr",
     "output_type": "stream",
     "text": [
      "/opt/miniconda3/envs/tasty/lib/python3.13/site-packages/statsmodels/tsa/base/tsa_model.py:473: ValueWarning: A date index has been provided, but it has no associated frequency information and so will be ignored when e.g. forecasting.\n",
      "  self._init_dates(dates, freq)\n"
     ]
    }
   ],
   "source": [
    "# Build VAR model\n",
    "df_stat = df[['SI% change', 'SGR% change']].iloc[1:]\n",
    "\n",
    "model_var = VAR(df_stat)\n",
    "results_var = model_var.fit(maxlags=7, ic='aic')  # Use AIC to select lag order\n",
    "print(results_var.summary())\n"
   ]
  },
  {
   "cell_type": "markdown",
   "id": "4a67b687",
   "metadata": {},
   "source": [
    "Short term predictive power is weak. \n",
    "\n",
    "I believe classical models and tests are not the best for this study, so next time I will implement modern models and test!"
   ]
  },
  {
   "cell_type": "code",
   "execution_count": 21,
   "id": "4674a326",
   "metadata": {},
   "outputs": [
    {
     "name": "stdout",
     "output_type": "stream",
     "text": [
      "R²: -0.1478944556661066\n",
      "RMSE: 0.021517919872288026\n"
     ]
    }
   ],
   "source": [
    "# ==========================================\n",
    "# 1. XGBoost Regression for Silver Returns\n",
    "# ==========================================\n",
    "from xgboost import XGBRegressor\n",
    "from sklearn.metrics import r2_score, mean_squared_error\n",
    "from sklearn.preprocessing import StandardScaler\n",
    "from sklearn.model_selection import TimeSeriesSplit\n",
    "\n",
    "# Feature engineering: lag features\n",
    "lags = 5\n",
    "for i in range(1, lags + 1):\n",
    "    df[f'slv_ret_lag{i}'] = df['slv_ret'].shift(i)\n",
    "    df[f'sgr_ret_lag{i}'] = df['sgr_ret'].shift(i)\n",
    "\n",
    "df_ml = df.dropna(subset=['slv_ret', 'sgr_ret'])\n",
    "features = [col for col in df_ml.columns if 'lag' in col]\n",
    "X = df_ml[features]\n",
    "y = df_ml['slv_ret']\n",
    "\n",
    "# Scaling\n",
    "scaler = StandardScaler()\n",
    "X_scaled = scaler.fit_transform(X)\n",
    "\n",
    "# Time-series split (no leakage)\n",
    "tscv = TimeSeriesSplit(n_splits=5)\n",
    "y_true, y_pred = [], []\n",
    "\n",
    "for train_idx, test_idx in tscv.split(X_scaled):\n",
    "    X_train, X_test = X_scaled[train_idx], X_scaled[test_idx]\n",
    "    y_train, y_test = y.iloc[train_idx], y.iloc[test_idx]\n",
    "    \n",
    "    model = XGBRegressor(n_estimators=200, learning_rate=0.05, max_depth=4)\n",
    "    model.fit(X_train, y_train)\n",
    "    y_pred.extend(model.predict(X_test))\n",
    "    y_true.extend(y_test)\n",
    "\n",
    "print(\"R²:\", r2_score(y_true, y_pred))\n",
    "print(\"RMSE:\", np.sqrt(mean_squared_error(y_true, y_pred)))\n"
   ]
  },
  {
   "cell_type": "code",
   "execution_count": null,
   "id": "0702089f",
   "metadata": {},
   "outputs": [],
   "source": [
    "# ==========================================\n",
    "# 2. GRU (Gated Recurrent Unit)\n",
    "# ==========================================\n",
    "import tensorflow as tf\n",
    "from tensorflow.keras.models import Sequential\n",
    "from tensorflow.keras.layers import GRU, Dense\n",
    "from sklearn.preprocessing import MinMaxScaler\n",
    "\n",
    "# Prepare time window data\n",
    "lookback = 30\n",
    "data = df[['slv_ret', 'sgr_ret']].dropna()\n",
    "scaler = MinMaxScaler()\n",
    "data_scaled = scaler.fit_transform(data)\n",
    "\n",
    "X, y = [], []\n",
    "for i in range(lookback, len(data_scaled)-1):\n",
    "    X.append(data_scaled[i-lookback:i])\n",
    "    y.append(data_scaled[i+1, 0])  # predict next silver return\n",
    "X, y = np.array(X), np.array(y)\n",
    "\n",
    "# Train-test split (time-based)\n",
    "split = int(len(X) * 0.8)\n",
    "X_train, X_test = X[:split], X[split:]\n",
    "y_train, y_test = y[:split], y[split:]\n",
    "\n",
    "# GRU model\n",
    "model = Sequential([\n",
    "    GRU(64, input_shape=(lookback, X.shape[2]), dropout=0.2),\n",
    "    Dense(1)\n",
    "])\n",
    "model.compile(optimizer='adam', loss='mse')\n",
    "history = model.fit(X_train, y_train, epochs=20, batch_size=32, validation_split=0.1, verbose=1)\n",
    "\n",
    "# Evaluation\n",
    "preds = model.predict(X_test)\n",
    "rmse = np.sqrt(np.mean((preds.flatten() - y_test)**2))\n",
    "print(\"RMSE:\", rmse)\n"
   ]
  },
  {
   "cell_type": "code",
   "execution_count": null,
   "id": "7ddd82ad",
   "metadata": {},
   "outputs": [],
   "source": [
    "# ==========================================\n",
    "# 3. Hidden Markov Model\n",
    "# ==========================================\n",
    "from hmmlearn.hmm import GaussianHMM\n",
    "\n",
    "# Use 2 or 3 regimes\n",
    "X = df[['slv_ret', 'sgr_ret']].dropna().values\n",
    "\n",
    "hmm = GaussianHMM(n_components=3, covariance_type=\"full\", n_iter=200)\n",
    "hmm.fit(X)\n",
    "states = hmm.predict(X)\n",
    "df['regime'] = np.nan\n",
    "df.loc[df.dropna(subset=['slv_ret', 'sgr_ret']).index, 'regime'] = states\n",
    "\n",
    "plt.figure(figsize=(10,4))\n",
    "plt.plot(df['slv_ret'], label='Silver Return', alpha=0.6)\n",
    "plt.scatter(df.index, df['slv_ret'], c=df['regime'], cmap='viridis', s=10)\n",
    "plt.title('Hidden Markov Regimes in Silver Returns')\n",
    "plt.legend()\n",
    "plt.show()\n"
   ]
  },
  {
   "cell_type": "code",
   "execution_count": null,
   "id": "04e967da",
   "metadata": {},
   "outputs": [],
   "source": [
    "# ==========================================\n",
    "# 4. Markov Chain Transition Probabilities\n",
    "# ==========================================\n",
    "from collections import Counter\n",
    "import numpy as np\n",
    "\n",
    "# Discretize returns into 3 states: -1 (down), 0 (flat), 1 (up)\n",
    "ret = df['slv_ret'].dropna()\n",
    "quantiles = ret.quantile([0.33, 0.66])\n",
    "states = np.select(\n",
    "    [ret < quantiles.iloc[0], ret < quantiles.iloc[1]], \n",
    "    [-1, 0], \n",
    "    default=1\n",
    ")\n",
    "\n",
    "# Build transition matrix\n",
    "transitions = pd.crosstab(states[:-1], states[1:], normalize='index')\n",
    "print(\"Transition Probabilities:\")\n",
    "print(transitions)\n"
   ]
  },
  {
   "cell_type": "code",
   "execution_count": null,
   "id": "3d8184a8",
   "metadata": {},
   "outputs": [],
   "source": [
    "import sys\n",
    "print(sys.executable)\n"
   ]
  }
 ],
 "metadata": {
  "kernelspec": {
   "display_name": "Python3 (tasty)",
   "language": "python",
   "name": "tasty"
  },
  "language_info": {
   "codemirror_mode": {
    "name": "ipython",
    "version": 3
   },
   "file_extension": ".py",
   "mimetype": "text/x-python",
   "name": "python",
   "nbconvert_exporter": "python",
   "pygments_lexer": "ipython3",
   "version": "3.13.7"
  }
 },
 "nbformat": 4,
 "nbformat_minor": 5
}
