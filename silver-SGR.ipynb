{
 "cells": [
  {
   "cell_type": "code",
   "execution_count": 1,
   "id": "3537d0e0",
   "metadata": {},
   "outputs": [],
   "source": [
    "# Requirements: pip install yfinance pandas_datareader statsmodels numpy pandas\n",
    "import pandas as pd\n",
    "import numpy as np\n",
    "import yfinance as yf\n",
    "import statsmodels.api as sm\n",
    "import matplotlib.pyplot as plt"
   ]
  },
  {
   "cell_type": "markdown",
   "id": "5baf5f0a",
   "metadata": {},
   "source": [
    "# Linear regression analysis between silver futures and silver-gold ratios\n",
    "---"
   ]
  },
  {
   "cell_type": "code",
   "execution_count": 2,
   "id": "7482fe73",
   "metadata": {},
   "outputs": [
    {
     "name": "stderr",
     "output_type": "stream",
     "text": [
      "/var/folders/cx/gx6njnbj39qgss912bmvd5d40000gn/T/ipykernel_7349/2634980941.py:4: FutureWarning: YF.download() has changed argument auto_adjust default to True\n",
      "  silver = yf.download('SI=F', start=start)['Close'].squeeze().rename('silver')\n",
      "[*********************100%***********************]  1 of 1 completed\n",
      "/var/folders/cx/gx6njnbj39qgss912bmvd5d40000gn/T/ipykernel_7349/2634980941.py:5: FutureWarning: YF.download() has changed argument auto_adjust default to True\n",
      "  slv = yf.download('SLV', start=start)['Close'].squeeze().rename('slv')\n",
      "[*********************100%***********************]  1 of 1 completed\n",
      "/var/folders/cx/gx6njnbj39qgss912bmvd5d40000gn/T/ipykernel_7349/2634980941.py:6: FutureWarning: YF.download() has changed argument auto_adjust default to True\n",
      "  gold = yf.download('GC=F', start=start)['Close'].squeeze().rename('gold')\n",
      "[*********************100%***********************]  1 of 1 completed\n",
      "/var/folders/cx/gx6njnbj39qgss912bmvd5d40000gn/T/ipykernel_7349/2634980941.py:7: FutureWarning: YF.download() has changed argument auto_adjust default to True\n",
      "  gld = yf.download('GLD', start=start)['Close'].squeeze().rename('gld')\n",
      "[*********************100%***********************]  1 of 1 completed\n"
     ]
    },
    {
     "data": {
      "text/html": [
       "<div>\n",
       "<style scoped>\n",
       "    .dataframe tbody tr th:only-of-type {\n",
       "        vertical-align: middle;\n",
       "    }\n",
       "\n",
       "    .dataframe tbody tr th {\n",
       "        vertical-align: top;\n",
       "    }\n",
       "\n",
       "    .dataframe thead th {\n",
       "        text-align: right;\n",
       "    }\n",
       "</style>\n",
       "<table border=\"1\" class=\"dataframe\">\n",
       "  <thead>\n",
       "    <tr style=\"text-align: right;\">\n",
       "      <th></th>\n",
       "      <th>silver</th>\n",
       "      <th>slv</th>\n",
       "      <th>gold</th>\n",
       "      <th>gld</th>\n",
       "    </tr>\n",
       "    <tr>\n",
       "      <th>Date</th>\n",
       "      <th></th>\n",
       "      <th></th>\n",
       "      <th></th>\n",
       "      <th></th>\n",
       "    </tr>\n",
       "  </thead>\n",
       "  <tbody>\n",
       "    <tr>\n",
       "      <th>2006-04-28</th>\n",
       "      <td>13.510</td>\n",
       "      <td>13.812</td>\n",
       "      <td>651.799988</td>\n",
       "      <td>65.089996</td>\n",
       "    </tr>\n",
       "    <tr>\n",
       "      <th>2006-05-01</th>\n",
       "      <td>13.852</td>\n",
       "      <td>13.870</td>\n",
       "      <td>657.500000</td>\n",
       "      <td>65.160004</td>\n",
       "    </tr>\n",
       "    <tr>\n",
       "      <th>2006-05-02</th>\n",
       "      <td>14.110</td>\n",
       "      <td>14.365</td>\n",
       "      <td>664.700012</td>\n",
       "      <td>66.550003</td>\n",
       "    </tr>\n",
       "    <tr>\n",
       "      <th>2006-05-03</th>\n",
       "      <td>13.704</td>\n",
       "      <td>13.925</td>\n",
       "      <td>665.900024</td>\n",
       "      <td>66.459999</td>\n",
       "    </tr>\n",
       "    <tr>\n",
       "      <th>2006-05-04</th>\n",
       "      <td>13.735</td>\n",
       "      <td>14.000</td>\n",
       "      <td>674.200012</td>\n",
       "      <td>67.480003</td>\n",
       "    </tr>\n",
       "  </tbody>\n",
       "</table>\n",
       "</div>"
      ],
      "text/plain": [
       "            silver     slv        gold        gld\n",
       "Date                                             \n",
       "2006-04-28  13.510  13.812  651.799988  65.089996\n",
       "2006-05-01  13.852  13.870  657.500000  65.160004\n",
       "2006-05-02  14.110  14.365  664.700012  66.550003\n",
       "2006-05-03  13.704  13.925  665.900024  66.459999\n",
       "2006-05-04  13.735  14.000  674.200012  67.480003"
      ]
     },
     "execution_count": 2,
     "metadata": {},
     "output_type": "execute_result"
    }
   ],
   "source": [
    "# Silver daily (COMEX front-month via yfinance ticker 'SI=F') and SLV\n",
    "start = '1900-01-01'\n",
    "\n",
    "silver = yf.download('SI=F', start=start)['Close'].squeeze().rename('silver')\n",
    "slv = yf.download('SLV', start=start)['Close'].squeeze().rename('slv')\n",
    "gold = yf.download('GC=F', start=start)['Close'].squeeze().rename('gold')\n",
    "gld = yf.download('GLD', start=start)['Close'].squeeze().rename('gld')\n",
    "\n",
    "df = pd.concat([silver,slv,gold,gld], axis=1).dropna()\n",
    "\n",
    "df.head()"
   ]
  },
  {
   "cell_type": "code",
   "execution_count": 10,
   "id": "eea26ed2",
   "metadata": {},
   "outputs": [
    {
     "name": "stdout",
     "output_type": "stream",
     "text": [
      "corr of slv and sgr: 0.1931499353251158\n"
     ]
    }
   ],
   "source": [
    "df['sgr'] = df[\"slv\"] / df['gld']\n",
    "print(f'corr of slv and sgr: {df['silver'].corr(df['sgr'])}')"
   ]
  },
  {
   "cell_type": "markdown",
   "id": "f4cc2dd6",
   "metadata": {},
   "source": [
    "A weak positive correlation between the two"
   ]
  },
  {
   "cell_type": "code",
   "execution_count": 11,
   "id": "d1c2ec28",
   "metadata": {},
   "outputs": [
    {
     "data": {
      "image/png": "[encoded data removed]",
      "text/plain": [
       "<Figure size 640x480 with 1 Axes>"
      ]
     },
     "metadata": {},
     "output_type": "display_data"
    }
   ],
   "source": [
    "df_norm = (df - df.mean()) / df.std()\n",
    "df_norm[['silver', 'sgr']].plot(title='Normalized silver futures and SGR')\n",
    "plt.show()"
   ]
  },
  {
   "cell_type": "markdown",
   "id": "bc066ae1",
   "metadata": {},
   "source": [
    "Let's run the model"
   ]
  },
  {
   "cell_type": "code",
   "execution_count": 12,
   "id": "eb079fbe",
   "metadata": {},
   "outputs": [
    {
     "name": "stdout",
     "output_type": "stream",
     "text": [
      "                            OLS Regression Results                            \n",
      "==============================================================================\n",
      "Dep. Variable:                 silver   R-squared:                       0.037\n",
      "Model:                            OLS   Adj. R-squared:                  0.037\n",
      "Method:                 Least Squares   F-statistic:                     15.89\n",
      "Date:                Thu, 16 Oct 2025   Prob (F-statistic):           6.80e-05\n",
      "Time:                        20:53:03   Log-Likelihood:                -16532.\n",
      "No. Observations:                4893   AIC:                         3.307e+04\n",
      "Df Residuals:                    4891   BIC:                         3.308e+04\n",
      "Df Model:                           1                                         \n",
      "Covariance Type:                  HAC                                         \n",
      "==============================================================================\n",
      "                 coef    std err          z      P>|z|      [0.025      0.975]\n",
      "------------------------------------------------------------------------------\n",
      "const         15.0380      1.473     10.209      0.000      12.151      17.925\n",
      "sgr           40.7271     10.216      3.986      0.000      20.704      60.751\n",
      "==============================================================================\n",
      "Omnibus:                      406.860   Durbin-Watson:                   0.004\n",
      "Prob(Omnibus):                  0.000   Jarque-Bera (JB):              512.838\n",
      "Skew:                           0.766   Prob(JB):                    4.35e-112\n",
      "Kurtosis:                       3.411   Cond. No.                         29.8\n",
      "==============================================================================\n",
      "\n",
      "Notes:\n",
      "[1] Standard Errors are heteroscedasticity and autocorrelation robust (HAC) using 5 lags and without small sample correction\n"
     ]
    }
   ],
   "source": [
    "Y = df['silver']\n",
    "X = sm.add_constant(df['sgr'])\n",
    "\n",
    "mdl = sm.OLS(Y, X).fit(cov_type='HAC', cov_kwds={'maxlags': 5})\n",
    "print(mdl.summary())"
   ]
  },
  {
   "cell_type": "markdown",
   "id": "3d50449b",
   "metadata": {},
   "source": [
    "\n",
    "# Outtakes\n",
    "---\n",
    "Only about 3.7% of daily variation of future prices is linearly explained by SGR. Serial correlation implies your errors aren’t independent, so predictive confidence is overstated. So, statistically, the model describes a weak association, not a reliable forecast.\n",
    "\n",
    "---\n",
    "## What about spot prices?\n"
   ]
  },
  {
   "cell_type": "code",
   "execution_count": 13,
   "id": "354afeb8",
   "metadata": {},
   "outputs": [
    {
     "name": "stdout",
     "output_type": "stream",
     "text": [
      "                            OLS Regression Results                            \n",
      "==============================================================================\n",
      "Dep. Variable:                    slv   R-squared:                       0.074\n",
      "Model:                            OLS   Adj. R-squared:                  0.074\n",
      "Method:                 Least Squares   F-statistic:                     31.96\n",
      "Date:                Thu, 16 Oct 2025   Prob (F-statistic):           1.66e-08\n",
      "Time:                        21:03:36   Log-Likelihood:                -16082.\n",
      "No. Observations:                4893   AIC:                         3.217e+04\n",
      "Df Residuals:                    4891   BIC:                         3.218e+04\n",
      "Df Model:                           1                                         \n",
      "Covariance Type:                  HAC                                         \n",
      "==============================================================================\n",
      "                 coef    std err          z      P>|z|      [0.025      0.975]\n",
      "------------------------------------------------------------------------------\n",
      "const         12.1439      1.347      9.014      0.000       9.503      14.784\n",
      "sgr           53.2325      9.416      5.654      0.000      34.778      71.687\n",
      "==============================================================================\n",
      "Omnibus:                      380.682   Durbin-Watson:                   0.003\n",
      "Prob(Omnibus):                  0.000   Jarque-Bera (JB):              474.356\n",
      "Skew:                           0.728   Prob(JB):                    9.89e-104\n",
      "Kurtosis:                       3.452   Cond. No.                         29.8\n",
      "==============================================================================\n",
      "\n",
      "Notes:\n",
      "[1] Standard Errors are heteroscedasticity and autocorrelation robust (HAC) using 5 lags and without small sample correction\n"
     ]
    }
   ],
   "source": [
    "Y = df['slv']\n",
    "\n",
    "mdl = sm.OLS(Y, X).fit(cov_type='HAC', cov_kwds={'maxlags': 5})\n",
    "print(mdl.summary())"
   ]
  },
  {
   "cell_type": "markdown",
   "id": "8d2159bf",
   "metadata": {},
   "source": [
    "---\n",
    "Only slightly better"
   ]
  },
  {
   "cell_type": "code",
   "execution_count": null,
   "id": "7fb7f761",
   "metadata": {},
   "outputs": [],
   "source": []
  }
 ],
 "metadata": {
  "kernelspec": {
   "display_name": "Tasty Kernel",
   "language": "python",
   "name": "tasty"
  },
  "language_info": {
   "codemirror_mode": {
    "name": "ipython",
    "version": 3
   },
   "file_extension": ".py",
   "mimetype": "text/x-python",
   "name": "python",
   "nbconvert_exporter": "python",
   "pygments_lexer": "ipython3",
   "version": "3.14.0"
  }
 },
 "nbformat": 4,
 "nbformat_minor": 5
}
